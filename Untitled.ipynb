{
 "cells": [
  {
   "cell_type": "code",
   "execution_count": 2,
   "id": "eb00eb96-e016-4b1b-bb49-643aa7c4aeac",
   "metadata": {},
   "outputs": [
    {
     "name": "stdout",
     "output_type": "stream",
     "text": [
      "Data prepared, models trained, and saved as model_v1.pkl and model_v2.pkl.\n"
     ]
    }
   ],
   "source": [
    "# Step 1: Import libraries\n",
    "from sklearn.datasets import load_iris\n",
    "from sklearn.model_selection import train_test_split\n",
    "from sklearn.tree import DecisionTreeClassifier\n",
    "import joblib  # Used to save models\n",
    "\n",
    "# Step 2: Load the Iris dataset\n",
    "iris = load_iris()\n",
    "X = iris.data              # Features (sepal length, petal length, etc.)\n",
    "y = iris.target            # Target (flower types)\n",
    "\n",
    "# Step 3: Data Preparation - Split into training and testing sets\n",
    "X_train, X_test, y_train, y_test = train_test_split(X, y, test_size=0.2, random_state=42)\n",
    "\n",
    "# Step 4: Train and Save First Model (with max_depth = 2)\n",
    "model_v1 = DecisionTreeClassifier(max_depth=2)\n",
    "model_v1.fit(X_train, y_train)\n",
    "joblib.dump(model_v1, 'model_v1.pkl')  # Save the model\n",
    "\n",
    "# Step 5: Train and Save Second Model (with max_depth = 3)\n",
    "model_v2 = DecisionTreeClassifier(max_depth=3)\n",
    "model_v2.fit(X_train, y_train)\n",
    "joblib.dump(model_v2, 'model_v2.pkl')  # Save the second version\n",
    "\n",
    "# Step 6: Done\n",
    "print(\"Data prepared, models trained, and saved as model_v1.pkl and model_v2.pkl.\")\n"
   ]
  },
  {
   "cell_type": "code",
   "execution_count": null,
   "id": "ab11a3e2-bc08-421b-859b-51ec97fc7653",
   "metadata": {},
   "outputs": [],
   "source": []
  }
 ],
 "metadata": {
  "kernelspec": {
   "display_name": "Python (base)",
   "language": "python",
   "name": "base"
  },
  "language_info": {
   "codemirror_mode": {
    "name": "ipython",
    "version": 3
   },
   "file_extension": ".py",
   "mimetype": "text/x-python",
   "name": "python",
   "nbconvert_exporter": "python",
   "pygments_lexer": "ipython3",
   "version": "3.12.9"
  }
 },
 "nbformat": 4,
 "nbformat_minor": 5
}
